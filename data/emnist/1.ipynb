{
 "cells": [
  {
   "cell_type": "code",
   "execution_count": 4,
   "metadata": {},
   "outputs": [
    {
     "name": "stdout",
     "output_type": "stream",
     "text": [
      "['test.pkl', 'train.pkl', 'val.pkl']\n",
      "test.pkl\n",
      "195\n",
      "train.pkl\n",
      "624\n",
      "val.pkl\n",
      "156\n"
     ]
    }
   ],
   "source": [
    "import pickle\n",
    "import os \n",
    " \n",
    "task_path = \"all_data/train/task_1/\"\n",
    "\n",
    "classes = os.listdir(task_path)\n",
    "\n",
    "print(classes)\n",
    "for cl in classes:\n",
    "    print(cl)\n",
    "    data_file = os.path.join(task_path, cl)\n",
    "    with open(data_file, 'rb') as f:\n",
    "        data = pickle.load(f)\n",
    "        print(len(data))\n",
    "        # print(data)\n",
    "# print(\"Train data:\")\n",
    "# print(len(train_data))\n",
    "# print(train_data)\n"
   ]
  }
 ],
 "metadata": {
  "kernelspec": {
   "display_name": "torch112",
   "language": "python",
   "name": "python3"
  },
  "language_info": {
   "codemirror_mode": {
    "name": "ipython",
    "version": 3
   },
   "file_extension": ".py",
   "mimetype": "text/x-python",
   "name": "python",
   "nbconvert_exporter": "python",
   "pygments_lexer": "ipython3",
   "version": "3.8.16"
  },
  "orig_nbformat": 4,
  "vscode": {
   "interpreter": {
    "hash": "15dabed8df95537726ddf2eb3bcbb8efdc03315a5895ac99c062b07f9688c4b9"
   }
  }
 },
 "nbformat": 4,
 "nbformat_minor": 2
}
